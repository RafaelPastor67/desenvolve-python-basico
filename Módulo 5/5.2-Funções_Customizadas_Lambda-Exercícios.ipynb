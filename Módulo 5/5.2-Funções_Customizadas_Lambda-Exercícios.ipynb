{
 "cells": [
  {
   "cell_type": "markdown",
   "id": "cbdff5a5",
   "metadata": {},
   "source": [
    "# Módulo 5 - Funções\n",
    "\n",
    "## Aulas 5.2 - Funções Customizadas e 5.4 Funções ```lambda```"
   ]
  },
  {
   "cell_type": "markdown",
   "id": "28a3fee2",
   "metadata": {},
   "source": [
    "### Q1.\n",
    "\n",
    "- Sabendo que o código a seguir calcula o fatorial de n, escreva uma função chamada ```fatorial()``` que recebe um inteiro ```n``` como parâmetro e retorna o resultado do fatorial de ```n```. \n",
    "- No programa principal, peça ao usuário o valor de ```n```, chame a sua função e imprima o retorno.\n",
    "\n",
    "```python\n",
    "fat = 1\n",
    "for i in range(1, n+1):\n",
    "    fat *= i \n",
    "```"
   ]
  },
  {
   "cell_type": "code",
   "execution_count": 21,
   "id": "d126b3a5",
   "metadata": {},
   "outputs": [],
   "source": [
    "## Crie aqui a função fatorial()\n",
    "## lembre-se de executar a célula para que \n",
    "## a função passe a existir e possa ser chamada\n",
    "def fatorial(n):\n",
    "    fat = 1\n",
    "    for i in range(1, n+1):\n",
    "        fat *=i\n",
    "    return(fat)\n",
    "\n"
   ]
  },
  {
   "cell_type": "code",
   "execution_count": 27,
   "id": "6e4fe64e",
   "metadata": {},
   "outputs": [
    {
     "name": "stdout",
     "output_type": "stream",
     "text": [
      "5! é igual a: \n",
      "1\n",
      "2\n",
      "6\n",
      "24\n",
      "120\n"
     ]
    }
   ],
   "source": [
    "## Escreva aqui o programa principal e execute a célula\n",
    "n = int(input(\"Digite um valor inteiro: \"))\n",
    "print(f\"{n}! é igual a: \")\n",
    "for i in range(1,n+1):\n",
    "    print(f'{fatorial(i)}')\n"
   ]
  },
  {
   "cell_type": "markdown",
   "id": "c0a1f599",
   "metadata": {},
   "source": [
    "### Q2.\n",
    "\n",
    "- Escreva uma função em Python chamada ```soma_quadrados``` que recebe dois números como parâmetros e retorna a soma dos seus quadrados. \n",
    "- No programa principal solicite ao usuário que insira dois números e utilize a função para exibir a soma dos quadrados."
   ]
  },
  {
   "cell_type": "code",
   "execution_count": 17,
   "id": "6dbddaad",
   "metadata": {},
   "outputs": [],
   "source": [
    "## Crie aqui a função soma_quadrados()\n",
    "def soma_quadrados(a,b):\n",
    "    a= a**2\n",
    "    b = b**2\n",
    "    c = a+b\n",
    "    return c\n"
   ]
  },
  {
   "cell_type": "code",
   "execution_count": 20,
   "id": "9175a7da",
   "metadata": {},
   "outputs": [
    {
     "name": "stdout",
     "output_type": "stream",
     "text": [
      "A soma dos quadrados é igual a: 160\n"
     ]
    }
   ],
   "source": [
    "## Escreva aqui o programa principal e execute a célula\n",
    "a = int(input('Digite um valor: '))\n",
    "b = int(input('Digite um valor: '))\n",
    "print(f'A soma dos quadrados é igual a: {soma_quadrados(a,b)}')"
   ]
  },
  {
   "cell_type": "markdown",
   "id": "6ba34ce0",
   "metadata": {},
   "source": [
    "### Q3.\n",
    "\n",
    "- Crie uma função em Python chamada ```soma_digitos``` que recebe um número inteiro como parâmetro e retorna a soma dos seus dígitos. Por exemplo, para o número 123, a função deve retornar 6, $(1 + 2 + 3)$.\n",
    "    - O desafio aqui é separar os dígitos de um número inteiro usando operações aritméticas <br> <br>\n",
    "\n",
    "- No programa principal solicite ao usuário que insira um número e utilize a função ```soma_digitos``` para calcular e exibir a soma dos seus dígitos."
   ]
  },
  {
   "cell_type": "code",
   "execution_count": 42,
   "id": "34838ebf",
   "metadata": {},
   "outputs": [],
   "source": [
    "## Crie aqui a função soma_digitos()\n",
    "#Essa foi muito divertida de fazer\n",
    "def soma_digitos(a):# a função pega o resto da divisão por 10 que é o ultimo digito e vai somando \n",
    "    soma = 0\n",
    "    while a > 0:\n",
    "        resto = a % 10\n",
    "        soma += resto\n",
    "        a = a//10\n",
    "    return soma\n"
   ]
  },
  {
   "cell_type": "code",
   "execution_count": 43,
   "id": "27c35b21",
   "metadata": {},
   "outputs": [
    {
     "name": "stdout",
     "output_type": "stream",
     "text": [
      "a soma dos dígitos é: 6\n"
     ]
    }
   ],
   "source": [
    "## Escreva aqui o programa principal e execute a célula\n",
    "n= int(input(\"DIgite um número: \"))\n",
    "print(f\"a soma dos dígitos é: {soma_digitos(n)}\")\n"
   ]
  },
  {
   "cell_type": "markdown",
   "id": "c318b159",
   "metadata": {},
   "source": [
    "### Q4.\n",
    "\n",
    "- Crie a função ```inverteValor()``` que recebe um inteiro de qualquer tamanho e retorna esse valor invertido usando apenas operações aritméticas\n",
    "- Crie a função ```verificaInverso()``` que recebe o valor original e o valor invertido e retorna verdadeiro se ambos forem igualmente par ou igualmente ímpar. Retorne falso caso contrário.\n",
    "- No programa principal, peça um valor do usuário e imprima o retorno de ambas as funções.\n"
   ]
  },
  {
   "cell_type": "code",
   "execution_count": 48,
   "id": "e4e47d1d",
   "metadata": {},
   "outputs": [],
   "source": [
    "## Crie aqui as funções inverteValor() e verificaInverso()\n",
    "def inverteValor(a):\n",
    "    inverso = 0\n",
    "    while a>0:\n",
    "        resto = a % 10\n",
    "        inverso = inverso*10 + resto\n",
    "        a = a//10\n",
    "    return inverso\n",
    "def verificaInverso(numero, inverso):\n",
    "     if numero == 0:\n",
    "        return True\n",
    "     else:\n",
    "        return(numero % 2 == inverso % 2)\n"
   ]
  },
  {
   "cell_type": "code",
   "execution_count": 55,
   "id": "a9514e56",
   "metadata": {},
   "outputs": [
    {
     "name": "stdout",
     "output_type": "stream",
     "text": [
      "O inverso de 256 é 652; igualmente par ou ímpar? True\n"
     ]
    }
   ],
   "source": [
    "## Escreva aqui o programa principal e execute a célula\n",
    "n = int(input(\"Digite um valor: \"))\n",
    "\n",
    "invertido = inverteValor(n)\n",
    "paridade = verificaInverso(n, invertido)\n",
    "print(f\"O inverso de {n} é {invertido}; igualmente par ou ímpar? {paridade}\")\n",
    "\n"
   ]
  },
  {
   "cell_type": "markdown",
   "id": "329be966",
   "metadata": {},
   "source": [
    "### Q5.\n",
    "\n",
    "Você está desenvolvendo um programa para auxiliar em cálculos de geometria básica. Crie as seguintes funções:\n",
    "- A função ```calcula_perimetro_triangulo()``` que recebe três inteiros correspondentes aos lados de um triângulo e retorna o perímetro do triângulo, ou seja, a soma dos seus lados.\n",
    "- A função ```calcula_perimetro_circulo()``` que recebe um inteiro referente ao raio do círculo e retorna o perímetro do círculo, dado por $2 \\pi r$. Use a constante $\\pi$ da biblioteca ```math```.\n",
    "- A função ```calcula_perimetro_retangulo()``` que possui um parâmetro obrigatório ```lado1``` e um opcional ```lado2```, ambos inteiros. Se o valor opcional não for fornecido, significa que se trata de um quadrado. Sua função deve calcular e retornar o perímetro do retângulo, ou seja, a soma de seus lados. \n",
    "    - Para o quadrado, é dado por $4 \\times lado1$\n",
    "    - Para o retângulo é dado por $2 \\times lado1 + 2 \\times lado2$\n",
    "    \n",
    "- No programa principal apresente um menu com as opções disponíveis do seu sistema e uma quarta opção ```Sair```. Solicite ao usuário a opção desejada, solicite as entradas correspondentes à opção escolhida, invoque a respective função e apresente o seu retorno. Seu programa deve retornar ao menu até que o usuário escolha a opção ```Sair```\n",
    "\n",
    "Exemplo de interação:\n",
    "```\n",
    "1 - Calcular perímetro triângulo\n",
    "2 - Calcular perímetro círculo\n",
    "3 - Calcular perímetro retângulo\n",
    "4 - Sair\n",
    "\n",
    "Opção: 1\n",
    "Digite os três lados do triângulo:\n",
    "3\n",
    "4\n",
    "5\n",
    "O perímetro é: 12\n",
    "\n",
    "1 - Calcular perímetro triângulo\n",
    "2 - Calcular perímetro círculo\n",
    "3 - Calcular perímetro retângulo\n",
    "4 - Sair\n",
    "\n",
    "Opção: 3\n",
    "Informe os dois lados do retângulo. Se for um quadrado, digite 0 para o segundo valor:\n",
    "5\n",
    "0\n",
    "O perímetro é: 20\n",
    "\n",
    "1 - Calcular perímetro triângulo\n",
    "2 - Calcular perímetro círculo\n",
    "3 - Calcular perímetro retângulo\n",
    "4 - Sair\n",
    "\n",
    "Opção: 4\n",
    "```"
   ]
  },
  {
   "cell_type": "code",
   "execution_count": 1,
   "metadata": {},
   "outputs": [],
   "source": [
    "# Crie aqui as funções \n",
    "import math\n",
    "pi=math.pi \n",
    "def calcula_perimetro_triangulo(a,b,c):\n",
    "    perimetro = a + b + c\n",
    "    return perimetro\n",
    "def calcula_perimetro_circulo(r):\n",
    "    perimetro = round((2*pi*r),2)\n",
    "    return perimetro\n",
    "def calcula_perimetro_retangulo(a,b):\n",
    "    if b == 0: b=a\n",
    "    perimetro = a*2 + b*2\n",
    "    return perimetro"
   ]
  },
  {
   "cell_type": "code",
   "execution_count": 3,
   "id": "36269c71",
   "metadata": {},
   "outputs": [
    {
     "name": "stdout",
     "output_type": "stream",
     "text": [
      "--------------------------------------------------------\n",
      "1 - Calcular perímetro triângulo\n",
      "2 - Calcular perímetro círculo\n",
      "3 - Calcular perímetro retângulo\n",
      "4 - sair\n",
      "--------------------------------------------------------\n",
      "Digite os três lados do triângulo: \n",
      "O perímetro do retângulo é de: 21\n",
      "--------------------------------------------------------\n",
      "1 - Calcular perímetro triângulo\n",
      "2 - Calcular perímetro círculo\n",
      "3 - Calcular perímetro retângulo\n",
      "4 - sair\n",
      "--------------------------------------------------------\n"
     ]
    }
   ],
   "source": [
    "## Escreva aqui o programa principal \n",
    "while True:\n",
    "    print('--------------------------------------------------------')\n",
    "    print(\"1 - Calcular perímetro triângulo\")\n",
    "    print(\"2 - Calcular perímetro círculo\")\n",
    "    print(\"3 - Calcular perímetro retângulo\")\n",
    "    print(\"4 - sair\")\n",
    "    print('--------------------------------------------------------')\n",
    "    opção = int(input(\"Opção: \"))\n",
    "   \n",
    "    if opção == 1:\n",
    "        (print(\"Digite os três lados do triângulo: \"))\n",
    "        a = int(input(\"Lado 1: \"))\n",
    "        b = int(input(\"Lado 2: \"))\n",
    "        c = int(input(\"Lado 3: \"))\n",
    "        print(f'O perímetro do retângulo é de: {calcula_perimetro_triangulo(a,b,c)}')\n",
    "    elif opção == 2:\n",
    "        (print(\"Digite o raio do círculo: \"))\n",
    "        r = int(input(\"R: \"))\n",
    "        print(f'O perímetro do círculo é de: {calcula_perimetro_circulo(r)}')\n",
    "    elif opção == 3:\n",
    "        (print(\"Digite o lado do retângulo (caso for um quadrado digite 0 no segundo valor): \"))\n",
    "        a = int(input(\"Lado 1: \"))\n",
    "        b = int(input(\"Lado 2 (Caso tenha): \"))\n",
    "        print(f'O perímetro do retângulo é de: {calcula_perimetro_retangulo(a,b)}')\n",
    "    elif opção == 4:\n",
    "        print(\"Programa encerrado...\")\n",
    "        break\n",
    "    else:\n",
    "        print(\"          Opção Inválida\")\n",
    "        continue\n",
    "    "
   ]
  },
  {
   "cell_type": "markdown",
   "id": "3016bcc7",
   "metadata": {},
   "source": [
    "## Funções ```lambda```"
   ]
  },
  {
   "cell_type": "markdown",
   "id": "f9cdb8dd",
   "metadata": {},
   "source": [
    "### Q6.\n",
    "\n",
    "Crie uma função lambda para verificar se um número é par ou ímpar. Em seguida, solicite ao usuário um número indefinidos de valores (até que o usuário digite 0). Para cada valor de entrada, informe se é par ou ímpar.\n",
    "\n",
    "Exemplo de interação:\n",
    "```\n",
    "Digite os valores que deseja verificar a paridade (digite 0 para finalizar a entrada de dados):\n",
    "3\n",
    "ímpar\n",
    "8\n",
    "par\n",
    "12\n",
    "par\n",
    "5\n",
    "ímpar\n",
    "7ímpar\n",
    "```"
   ]
  },
  {
   "cell_type": "code",
   "execution_count": null,
   "id": "e3c31a78",
   "metadata": {},
   "outputs": [],
   "source": [
    "verifica_paridade = lambda x: 'par' if x % 2 == 0 else 'ímpar'\n",
    "\n",
    "while True:\n",
    "    x = int(input(\"Digite um valor: \"))\n",
    "    if x == 0:\n",
    "        break\n",
    "    x = verifica_paridade(x)\n",
    "    print(x)\n",
    "    "
   ]
  },
  {
   "cell_type": "markdown",
   "id": "5a87474d",
   "metadata": {},
   "source": [
    "### Q7.\n",
    "\n",
    "Escreva um programa que pergunte ao usuário qual operação ele deseja: maior ou menor.\n",
    "Em seguida leia uma quantidade indefinida de valores do usuário, até que o usuário digite o valor zero.\n",
    "Apresente ao final o maior ou menor dos valores digitados de acordo com a escolha do usuário.\n",
    "\n",
    "**Sua solução deve incluir pelo menos uma função ```lambda```** \n",
    "\n",
    "Exemplo de interação:\n",
    "```\n",
    "Opções: (1) maior ou (2) menor?\n",
    "Opção: 1\n",
    "\n",
    "Digite os valores de entrada. Digite 0 para finalizar a entrada de valores.\n",
    "4\n",
    "12\n",
    "15\n",
    "1\n",
    "0\n",
    "\n",
    "O maior valor é: 15\n",
    "```"
   ]
  },
  {
   "cell_type": "code",
   "execution_count": 1,
   "id": "ee3f68ca",
   "metadata": {},
   "outputs": [
    {
     "name": "stdout",
     "output_type": "stream",
     "text": [
      "Opções: (1) maior ou (2) menor\n",
      "0\n"
     ]
    }
   ],
   "source": [
    "## Escreva aqui o programa principal \n",
    "print(\"Opções: (1) maior ou (2) menor\")\n",
    "o = int(input(\"escolha uma opção\"))\n",
    "if o == 1:\n",
    "    result = float('-inf')\n",
    "    op_function = lambda a,b: a>b\n",
    "else:\n",
    "    result = float(\"inf\")\n",
    "    op_function = lambda a,b: a<b\n",
    "while True:\n",
    "    x = int(input(\"Digite um valor: \"))\n",
    "    if x == 0:\n",
    "        break\n",
    "\n",
    "if op_function(x,result):\n",
    "    result = x\n",
    "print(result)"
   ]
  },
  {
   "cell_type": "code",
   "execution_count": null,
   "id": "7f9598c3",
   "metadata": {},
   "outputs": [],
   "source": []
  }
 ],
 "metadata": {
  "kernelspec": {
   "display_name": "Python 3 (ipykernel)",
   "language": "python",
   "name": "python3"
  },
  "language_info": {
   "codemirror_mode": {
    "name": "ipython",
    "version": 3
   },
   "file_extension": ".py",
   "mimetype": "text/x-python",
   "name": "python",
   "nbconvert_exporter": "python",
   "pygments_lexer": "ipython3",
   "version": "3.12.4"
  }
 },
 "nbformat": 4,
 "nbformat_minor": 5
}

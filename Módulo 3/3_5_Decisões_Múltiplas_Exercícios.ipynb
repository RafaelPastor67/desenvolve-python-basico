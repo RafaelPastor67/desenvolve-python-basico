{
  "cells": [
    {
      "cell_type": "markdown",
      "id": "559687a1",
      "metadata": {
        "id": "559687a1"
      },
      "source": [
        "# Módulo 3 - Condicionais\n",
        "\n",
        "## 3.5 - Decisões Múltiplas"
      ]
    },
    {
      "cell_type": "markdown",
      "id": "42f823b3",
      "metadata": {
        "id": "42f823b3"
      },
      "source": [
        "### Q1.\n",
        "\n",
        "Vamos fazer uma calculadora! Escreva um programa que solicita 3 entradas: o primeiro operando (float), o operador (caracter) e o segundo operando (float). Seu programa deve imprimir o resultado da operação solicitada, entre soma (+), subtração (-), divisão (/), multiplicação (\\*) ou potência (\\*\\*). Seu programa também deve imprimir uma mensagem de erro se a operação solicitada não estiver dentre as opções disponíveis.\n",
        "\n",
        "Seguem alguns exemplos de interação com seu código no terminal.\n",
        "\n",
        "\n",
        "```\n",
        "Digite o primeiro operando: 5.2\n",
        "Digite o operador (+, -, /, *, **): *\n",
        "Digite o segundo operando` 3\n",
        "Resultado: 5.2 * 3.0 = 15.6\n",
        "```\n",
        "\n",
        "```\n",
        "Digite o primeiro operando: 8\n",
        "Digite o operador (+, -, /, *, **): **\n",
        "Digite o segundo operando: 2\n",
        "Resultado: 8.0 * 2.0 = 64.0\n",
        "```\n",
        "\n",
        "```\n",
        "Digite o primeiro operando: 7\n",
        "Digite o operador (+, -, /, *, **): %\n",
        "Digite o segundo operando: 3.4\n",
        "Erro! Operação inválida.\n",
        "```\n",
        "\n",
        "```\n",
        "Digite o primeiro operando: 10\n",
        "Digite o operador (+, -, /, *, **): /\n",
        "Digite o segundo operando: 2.5\n",
        "Resultado: 10.0 / 2.5 = 4.0\n",
        "```\n",
        "\n"
      ]
    },
    {
      "cell_type": "code",
      "execution_count": null,
      "id": "c5b8cd4d",
      "metadata": {
        "id": "c5b8cd4d"
      },
      "outputs": [],
      "source": [
        "n1 = float(input(\"Digite um número: \"))\n",
        "op = input(\"Digite o operador: \")\n",
        "n2 = float(input(\"Digite outro número: \"))\n",
        "if op == \"+\":\n",
        "    resultado = n1 + n2\n",
        "elif op == \"-\":\n",
        "    resultado = n1 - n2\n",
        "elif op == \"*\":\n",
        "    resultado = n1 * n2\n",
        "elif op == \"/\":\n",
        "    resultado = n1 / n2\n",
        "elif op == \"**\":\n",
        "    resultado = n1 ** n2\n",
        "else:\n",
        "    resultado = \"Operador inválido\" # caso o usúario não digite nenhum dos operadores definidos\n",
        "print(f\"{n1}{op}{n2}={resultado}\")\n"
      ]
    },
    {
      "cell_type": "markdown",
      "id": "d135df39",
      "metadata": {
        "id": "d135df39"
      },
      "source": [
        "### Q2.\n",
        "\n",
        "Escreva um programa que leia os comprimentos dos 3 lados de um triângulo e diga se o triângulo é equilátero, isóceles ou escaleno. Regras:\n",
        "- Isóceles: Quaisquer dois lados com o mesmo comprimento\n",
        "- Equilátero: Os três lados tem o mesmo comprimento\n",
        "- Escaleno: Três lados de comprimento diferente\n",
        "\n",
        "Note que a ordem das condições importa! Seguem alguns exemplos de interação com seu código no terminal.\n",
        "\n",
        "```\n",
        "Digite o comprimento do lado 1: 4\n",
        "Digite o comprimento do lado 2: 4\n",
        "Digite o comprimento do lado 3: 6\n",
        "Triângulo: Isóceles\n",
        "```\n",
        "\n",
        "```\n",
        "Digite o comprimento do lado 1: 5\n",
        "Digite o comprimento do lado 2: 5\n",
        "Digite o comprimento do lado 3: 5\n",
        "Triângulo: Equilátero\n",
        "```\n",
        "\n",
        "```\n",
        "Digite o comprimento do lado 1: 7\n",
        "Digite o comprimento do lado 2: 4\n",
        "Digite o comprimento do lado 3: 9\n",
        "Triângulo: Escaleno\n",
        "```\n",
        "\n"
      ]
    },
    {
      "cell_type": "code",
      "execution_count": null,
      "id": "cfcf9a80",
      "metadata": {
        "id": "cfcf9a80"
      },
      "outputs": [],
      "source": [
        "## Escreva e execute seu código aqui\n",
        "\n",
        "l1 =float(input(\"Medida do primeiro lado: \"))\n",
        "l2 =float(input(\"Medida do segundo lado: \"))\n",
        "l3 =float(input(\"Medida do terceiro lado: \"))\n",
        "\n",
        "if l1 == l2 and l1 == l3: # A ordem importa nesse script, precisa testar se é equilatero antes de isóceles\n",
        "    resultado = \"Equilatero\"\n",
        "elif l1 == l2 or l2 == l3 or l1 == l3:\n",
        "    resultado = \"Isóceles\"\n",
        "else:\n",
        "    resultado = \"Escaleno\"\n",
        "print(f\"O tiangulo é {resultado}\")"
      ]
    },
    {
      "cell_type": "markdown",
      "id": "ed3405fb",
      "metadata": {
        "id": "ed3405fb"
      },
      "source": [
        "### Q3.\n",
        "\n",
        "Você está desenvolvendo um sistema de avaliação de desempenho para um jogo. Escreva um programa em Python que avalia a pontuação do jogador em uma missão e atribui uma classificação com base nas seguintes condições:\n",
        "\n",
        "- Se a pontuação for menor que 70, atribua a classificação \"Insatisfatório\".\n",
        "- Se a pontuação for maior ou igual a 70, atribua a classificação \"Regular\".\n",
        "- Se a pontuação for maior ou igual a 80, atribua a classificação \"Bom\".\n",
        "- Se a pontuação for maior ou igual a 90, atribua a classificação \"Excelente\".\n",
        "\n",
        "Escreva um programa que solicita ao usuário a pontuação e imprime a classificação correspondente."
      ]
    },
    {
      "cell_type": "code",
      "execution_count": null,
      "id": "a7a842ae",
      "metadata": {
        "id": "a7a842ae"
      },
      "outputs": [],
      "source": [
        "## Escreva e execute seu código aqui\n",
        "n=int(input(\"Qual a pontuação: \"))\n",
        "\n",
        "if n >= 90:\n",
        "    print(\"Excelente\")\n",
        "elif n >= 80:\n",
        "    print(\"Bom\")\n",
        "elif n >= 70:\n",
        "    print(\"Regular\")\n",
        "elif n < 70:\n",
        "    print(\"Insatisfatório\")\n"
      ]
    },
    {
      "cell_type": "markdown",
      "id": "6cafaa50",
      "metadata": {
        "id": "6cafaa50"
      },
      "source": [
        "### Q4.\n",
        "\n",
        "Você está implementando um sistema de desconto em uma loja online. Escreva um programa em Python que calcula o desconto com base no valor total da compra e atribui diferentes níveis de desconto de acordo com as seguintes condições:\n",
        "\n",
        "- Se o valor total da compra for menor que R\\$ 50, não há desconto.\n",
        "- Se o valor total da compra for maior ou igual a R\\$ 50, atribua um desconto de 10%.\n",
        "- Se o valor total da compra for maior ou igual a R\\$ 100, atribua um desconto de 20%.\n",
        "\n",
        "\n",
        "Seguem alguns exemplos de interação com seu código no terminal. Preste atenção na formatação esperada para as saídas.\n",
        "\n",
        "```\n",
        "Digite o valor total da compra: 120\n",
        "Desconto aplicado: 20.0%\n",
        "Valor final com desconto: R$96.00\n",
        "```\n",
        "\n",
        "```\n",
        "Digite o valor total da compra: 65\n",
        "Desconto aplicado: 10.0%\n",
        "Valor final com desconto: R$58.50\n",
        "```\n",
        "\n",
        "```\n",
        "Digite o valor total da compra: 40\n",
        "Desconto aplicado: 0.0%\n",
        "Valor final com desconto: R$40.00\n",
        "```\n",
        "\n",
        "\n"
      ]
    },
    {
      "cell_type": "code",
      "execution_count": null,
      "id": "3b1b1929",
      "metadata": {
        "id": "3b1b1929",
        "colab": {
          "base_uri": "https://localhost:8080/"
        },
        "outputId": "3547563a-7057-4283-99b4-d43c2fa6e009"
      },
      "outputs": [
        {
          "output_type": "stream",
          "name": "stdout",
          "text": [
            "Valor da compra: 65\n",
            "Desconto aplicado: 10% \n",
            "Valor final com desconto: 58.5\n"
          ]
        }
      ],
      "source": [
        "## Escreva e execute seu código aqui\n",
        "v = float(input(\"Valor da compra: \"))\n",
        "\n",
        "if v >= 100:\n",
        "    v *= 0.8\n",
        "    print(f\"Desconto aplicado: 20% \")\n",
        "    print(f\"Valor final com desconto: {v}\")\n",
        "elif v >=50:\n",
        "    v *= 0.9\n",
        "    print(f\"Desconto aplicado: 10% \")\n",
        "    print(f\"Valor final com desconto: {v}\")\n",
        "else:\n",
        "    print(f\"Desconto aplicado: 0% \")\n",
        "    print(f\"Valor final com desconto: {v}\")\n"
      ]
    },
    {
      "cell_type": "markdown",
      "id": "dc5db6d7",
      "metadata": {
        "id": "dc5db6d7"
      },
      "source": [
        "### Q5.\n",
        "\n",
        "Você está projetando um sistema de autenticação baseado na análise da íris (parte colorida do olho). Ao acionado, o sistema coleta e retorna 3 valores inteiros referentes a atributos da íris visível. Mas o sistema não é perfeito, tendo uma margem de erro do sensor de +/- $5$.\n",
        "\n",
        "O código abaixo tem os atributos dos 4 usuários cadastrados no sistema. Você deve completar om código, pedindo ao usuário para inserir uma nova leitura de padrão de íris. O programa deve comparar o padrão inserido com os padrões cadastrados no banco de dados. Se o padrão estiver dentro da tolerância estabelecida, o usuário é autenticado com sucesso. Caso contrário, a autenticação falha.\n",
        "\n",
        "**Dica:** A função do python ```abs()``` retorna o valor absoluto de um elemento. Ex:\n",
        "```\n",
        ">>> print(abs(987-982))\n",
        "5\n",
        ">>> print(abs(987-992))\n",
        "5\n",
        "```\n",
        "\n",
        "Seguem alguns exemplos de interação com seu código no terminal.\n",
        "\n",
        "```\n",
        "Insira o padrão de íris para autenticação.\n",
        "Atributo 1: 111\n",
        "Atributo 2: 222\n",
        "Atributo 3: 333\n",
        "Autenticação bem-sucedida!\n",
        "Usuário: 3\n",
        "```\n",
        "\n",
        "```\n",
        "Insira o padrão de íris para autenticação.\n",
        "Atributo 1: 111\n",
        "Atributo 2: 200\n",
        "Atributo 3: 333\n",
        "Autenticação falhou!\n",
        "```\n",
        "\n",
        "```\n",
        "Insira o padrão de íris para autenticação.\n",
        "Atributo 1: 982\n",
        "Atributo 2: 653\n",
        "Atributo 3: 324\n",
        "Autenticação bem-sucedida!\n",
        "Usuário: 2\n",
        "```"
      ]
    },
    {
      "cell_type": "code",
      "execution_count": 2,
      "id": "b90304eb",
      "metadata": {
        "id": "b90304eb",
        "colab": {
          "base_uri": "https://localhost:8080/"
        },
        "outputId": "b8af6d71-3df1-475d-8a5c-e923e64a7749"
      },
      "outputs": [
        {
          "output_type": "stream",
          "name": "stdout",
          "text": [
            "Digite o valor 1124\n",
            "Digite o valor 2457\n",
            "Digite o valor 3789\n",
            "Autenticação bem-sucedida!\n",
            "usuario: 1\n"
          ]
        }
      ],
      "source": [
        "## Não altere os atributos definidos a seguir\n",
        "iris1_a1, iris1_a2, iris1_a3 = 123, 456, 789\n",
        "iris2_a1, iris2_a2, iris2_a3 = 987, 654, 321\n",
        "iris3_a1, iris3_a2, iris3_a3 = 111, 222, 333\n",
        "iris4_a1, iris4_a2, iris4_a3 = 444, 555, 666\n",
        "\n",
        "## Escreva e execute seu código aqui\n",
        "\n",
        "x,y,z = int(input(\"Digite o valor 1: \")),int(input(\"Digite o valor 2: \")),int(input(\"Digite o valor 3: \"))\n",
        "if((abs(x-123)<=5) and (abs(y-456)<=5) and (abs(z-789)<=5)):\n",
        "  print(\"Autenticação bem-sucedida!\")\n",
        "  print(\"usuario: 1\")\n",
        "elif((abs(x-987)<=5) and (abs(y-654)<=5) and (abs(z-321)<=5)):\n",
        "  print(\"Autenticação bem-sucedida!\")\n",
        "  print(\"usuario: 2\")\n",
        "elif((abs(x-111)<=5) and (abs(y-222)<=5) and (abs(z-333)<=5)):\n",
        "  print(\"Autenticação bem-sucedida!\")\n",
        "  print(\"usuario: 3\")\n",
        "elif((abs(x-444)<=5) and (abs(y-555)<=5) and (abs(z-666)<=5)):\n",
        "  print(\"Autenticação bem-sucedida!\")\n",
        "  print(\"usuario: 4\")\n",
        "else:\n",
        "  print(\"Autenticação falhou! \")"
      ]
    }
  ],
  "metadata": {
    "kernelspec": {
      "display_name": "Python 3 (ipykernel)",
      "language": "python",
      "name": "python3"
    },
    "language_info": {
      "codemirror_mode": {
        "name": "ipython",
        "version": 3
      },
      "file_extension": ".py",
      "mimetype": "text/x-python",
      "name": "python",
      "nbconvert_exporter": "python",
      "pygments_lexer": "ipython3",
      "version": "3.9.6"
    },
    "colab": {
      "provenance": []
    }
  },
  "nbformat": 4,
  "nbformat_minor": 5
}
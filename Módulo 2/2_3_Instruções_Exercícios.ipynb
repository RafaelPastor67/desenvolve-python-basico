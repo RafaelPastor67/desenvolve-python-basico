{
  "nbformat": 4,
  "nbformat_minor": 0,
  "metadata": {
    "colab": {
      "provenance": []
    },
    "kernelspec": {
      "name": "python3",
      "display_name": "Python 3"
    },
    "language_info": {
      "name": "python"
    }
  },
  "cells": [
    {
      "cell_type": "markdown",
      "source": [
        "# Módulo 2\n",
        "\n",
        "## 2.3 Instruções e Expressões\n",
        "\n",
        "### Q1\n",
        "\n",
        "Faça um programa que armazene o valor de 20 reais de salário por hora de um trabalhador, e o número de 40 horas trabalhadas na semana. Com essas informações, calcule e imprima:\n",
        "- Salário semanal bruto\n",
        "- Valor descontado por semana INSS (10% do bruto)\n",
        "- Valor descontado por semana pelo sindicato (5% do bruto)\n",
        "- Salário semanal líquido (Bruto - Descontos)"
      ],
      "metadata": {
        "id": "1pCTdOHonv5f"
      }
    },
    {
      "cell_type": "code",
      "execution_count": 9,
      "metadata": {
        "id": "hVbX0I97nj6M",
        "colab": {
          "base_uri": "https://localhost:8080/"
        },
        "outputId": "8bbf15fd-cbcb-4695-ef73-a74a3c7234c9"
      },
      "outputs": [
        {
          "output_type": "stream",
          "name": "stdout",
          "text": [
            "salário semanal bruto é de 800 reais\n",
            "O Valor descontado por semana do INSS é 80.0 reais\n",
            "O valor descontado por semana do sindicato é 40.0 reais\n",
            "O Salário semanal líquido é de 680.0 reais\n"
          ]
        }
      ],
      "source": [
        "## Escreva e execute seu código aqui\n",
        "salario = 20\n",
        "horas = 40\n",
        "bruto = horas * salario\n",
        "print(\"salário semanal bruto é de\", bruto, \"reais\")\n",
        "inss = bruto * 0.1\n",
        "print(\"O Valor descontado por semana do INSS é\", inss, \"reais\")\n",
        "sindicato = bruto * 0.05\n",
        "print(\"O valor descontado por semana do sindicato é\", sindicato, \"reais\")\n",
        "total_liquido = bruto - (sindicato + inss)\n",
        "print(\"O Salário semanal líquido é de\", total_liquido, \"reais\")\n",
        "\n"
      ]
    },
    {
      "cell_type": "markdown",
      "source": [
        "### Q2\n",
        "\n",
        "Altere o programa anterior para a partir dos valores de horas trabalhadas por semana e salário por hora, calcular **em somente duas instruções**:\n",
        "- Salário semanal bruto\n",
        "- Salário semanal líquido com todos os descontos. Para a segunda instrução, realize todos os cálculos aritméticos em uma expressão composta.\n"
      ],
      "metadata": {
        "id": "pIxKX9J2oGZ1"
      }
    },
    {
      "cell_type": "code",
      "source": [
        "## Escreva e execute seu código aqui\n",
        "salario = 40\n",
        "hora = 20\n",
        "bruto = salario * hora\n",
        "print(\"salario semanal bruto é de\", bruto ,\"reais\")\n",
        "print(\"Salario semanal líquido é de\", bruto -(bruto*0.1 + bruto*0.05),\"reais\" )\n"
      ],
      "metadata": {
        "colab": {
          "base_uri": "https://localhost:8080/"
        },
        "id": "2F889qV0UtbA",
        "outputId": "1a37f39a-3219-4868-c582-ea30ef861378"
      },
      "execution_count": 13,
      "outputs": [
        {
          "output_type": "stream",
          "name": "stdout",
          "text": [
            "salario semanal bruto é de 800 reais\n",
            "Salario semanal líquido é de 680.0 reais\n"
          ]
        }
      ]
    },
    {
      "cell_type": "markdown",
      "source": [
        "### Q3\n",
        "\n",
        "Você está desenvolvendo um software de conversão de moeda e precisa calcular o valor equivalente em yuan chinês a partir de uma quantia em real. A taxa de câmbio é de 0.69 BRL (real) para 1 CNY (yuan). Escreva um programa que define em uma variável uma quantia em reais (BRL) e calcula o valor equivalente em yuan (CNY). Imprima o resultado."
      ],
      "metadata": {
        "id": "m8tlHRuWpBOB"
      }
    },
    {
      "cell_type": "code",
      "source": [
        "## Escreva e execute seu código aqui\n",
        "x = float(input(\"Conversor de reais para yuan, digite um valor em reais: \"))\n",
        "x *=0.69\n",
        "print(f\"Esse valor em yuan é de: ¥ {x:.2f} yuans chineses\")"
      ],
      "metadata": {
        "id": "2bPw7uF6oeL9",
        "colab": {
          "base_uri": "https://localhost:8080/"
        },
        "outputId": "5c04ecb3-814a-40f3-bcab-6b4127910509"
      },
      "execution_count": 27,
      "outputs": [
        {
          "output_type": "stream",
          "name": "stdout",
          "text": [
            "Conversor de reais para yuan, digite um valor em reais: 1\n",
            "Esse valor em yuan é de: ¥ 0.69 yuans chineses\n"
          ]
        }
      ]
    },
    {
      "cell_type": "markdown",
      "source": [
        "### Q4\n",
        "\n",
        "Você é um treinador de corrida e deseja calcular a velocidade média que um atleta precisa manter para completar a Maratona Internacional de São Silvestre, que tem uma distância total de 42.195 km. A fórmula para calcular a velocidade média ($v\\_media$) é dada por $v\\_media = \\frac{distancia}{tempo}$ . Escreva um programa em Python para calcular a velocidade média necessária para completar a maratona em 3 horas.\n",
        "\n",
        "**Calcule e imprima o resultado em metros/segundo**, ou seja, converta a distância de quilômetros para metros ($metro = \\frac{km}{1000}$) e a velocidade de horas para segundos $(segundo = \\frac{hora}{3600})$."
      ],
      "metadata": {
        "id": "-Na3ltDCp74A"
      }
    },
    {
      "cell_type": "code",
      "source": [
        "## Escreva e execute seu código aqui\n",
        "distancia = 42195 #km\n",
        "tempo = 3 #horas\n",
        "distancia *= 1000\n",
        "tempo *= 3600\n",
        "v_media = distancia / tempo\n",
        "print(f\"{v_media:,.1f} m/s\" )"
      ],
      "metadata": {
        "id": "Bn6l8kcSrE4L",
        "colab": {
          "base_uri": "https://localhost:8080/"
        },
        "outputId": "f41cff8a-af7b-4749-bd77-471bf3709750"
      },
      "execution_count": 56,
      "outputs": [
        {
          "output_type": "stream",
          "name": "stdout",
          "text": [
            "3,906.9 m/s\n"
          ]
        }
      ]
    }
  ]
}